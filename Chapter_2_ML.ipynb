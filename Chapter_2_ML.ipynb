{
 "cells": [
  {
   "cell_type": "code",
   "execution_count": 7,
   "id": "d7f64b66-8f6b-46cc-8f7c-a85066bcddf0",
   "metadata": {},
   "outputs": [
    {
     "name": "stdout",
     "output_type": "stream",
     "text": [
      "Machine Learning Project Chapter 2\n"
     ]
    }
   ],
   "source": [
    "# Print a message indicating the title of the chapter in the Machine Learning project\n",
    "print(\"Machine Learning Project Chapter 2\")"
   ]
  },
  {
   "cell_type": "code",
   "execution_count": 25,
   "id": "b5e2b3b0-6b3d-4053-acd1-22573c8fc4da",
   "metadata": {},
   "outputs": [
    {
     "data": {
      "text/plain": [
       "sys.version_info(major=3, minor=12, micro=7, releaselevel='final', serial=0)"
      ]
     },
     "execution_count": 25,
     "metadata": {},
     "output_type": "execute_result"
    }
   ],
   "source": [
    "# Import the sys module\n",
    "import sys \n",
    "\n",
    "# Get and display the version information of the Python \n",
    "sys.version_info  "
   ]
  },
  {
   "cell_type": "code",
   "execution_count": 19,
   "id": "937ae610-b496-4025-a653-fa8fffbf2e21",
   "metadata": {},
   "outputs": [
    {
     "name": "stdout",
     "output_type": "stream",
     "text": [
      "3.12.7 | packaged by Anaconda, Inc. | (main, Oct  4 2024, 08:22:19) [Clang 14.0.6 ]\n"
     ]
    }
   ],
   "source": [
    "print(sys.version)"
   ]
  },
  {
   "cell_type": "code",
   "execution_count": 23,
   "id": "126a06b3-312d-4d2c-a255-a01348d0a53f",
   "metadata": {},
   "outputs": [
    {
     "data": {
      "text/plain": [
       "'1.5.1'"
      ]
     },
     "execution_count": 23,
     "metadata": {},
     "output_type": "execute_result"
    }
   ],
   "source": [
    "from packaging import version\n",
    "import sklearn\n",
    "\n",
    "sklearn.__version__"
   ]
  },
  {
   "cell_type": "code",
   "execution_count": 42,
   "id": "be43792c-5d89-4cdf-8b26-1a6e9b23fb9f",
   "metadata": {},
   "outputs": [],
   "source": [
    "# Import Path class from pathlib to handle filesystem paths\n",
    "from pathlib import Path  \n",
    "# Import pandas library to manipulate data and analyse them\n",
    "import pandas as pd  \n",
    "# Import tarfile module to read and write tar archive files\n",
    "import tarfile  \n",
    "# Import urllib.request to open and read URLs\n",
    "import urllib.request  "
   ]
  },
  {
   "cell_type": "code",
   "execution_count": null,
   "id": "ea73a3ae-3e20-4832-b5f0-4acab2fd3941",
   "metadata": {},
   "outputs": [],
   "source": []
  },
  {
   "cell_type": "code",
   "execution_count": null,
   "id": "513a9b40-6c95-4813-8bfd-ddd8b40ec282",
   "metadata": {},
   "outputs": [],
   "source": []
  }
 ],
 "metadata": {
  "kernelspec": {
   "display_name": "Python 3 (ipykernel)",
   "language": "python",
   "name": "python3"
  },
  "language_info": {
   "codemirror_mode": {
    "name": "ipython",
    "version": 3
   },
   "file_extension": ".py",
   "mimetype": "text/x-python",
   "name": "python",
   "nbconvert_exporter": "python",
   "pygments_lexer": "ipython3",
   "version": "3.12.7"
  }
 },
 "nbformat": 4,
 "nbformat_minor": 5
}
