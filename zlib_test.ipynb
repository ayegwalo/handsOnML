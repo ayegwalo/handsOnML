{
 "cells": [
  {
   "cell_type": "code",
   "execution_count": 14,
   "id": "c30526e7-a882-454e-9afe-2d330f4af612",
   "metadata": {},
   "outputs": [
    {
     "name": "stdout",
     "output_type": "stream",
     "text": [
      "Hello Chris, testing zlib\n"
     ]
    }
   ],
   "source": [
    "print(\"Hello Chris, testing zlib\")"
   ]
  },
  {
   "cell_type": "code",
   "execution_count": 4,
   "id": "cdae7234-f8ff-40aa-94f4-812e4b9a58cb",
   "metadata": {},
   "outputs": [],
   "source": [
    "from zlib import crc32"
   ]
  },
  {
   "cell_type": "code",
   "execution_count": 12,
   "id": "c045ac85-3577-4b6c-b1a4-242af9ccc377",
   "metadata": {},
   "outputs": [
    {
     "name": "stdout",
     "output_type": "stream",
     "text": [
      "2121557408\n"
     ]
    }
   ],
   "source": [
    "identifier = 123456 \n",
    "hash_value = crc32(identifier.to_bytes(8, byteorder='big'))  # Convert to bytes, CRC32 expects bytes\n",
    "print(hash_value)"
   ]
  },
  {
   "cell_type": "code",
   "execution_count": null,
   "id": "74332ef8-3931-444a-b0e7-3ce82e90e20b",
   "metadata": {},
   "outputs": [],
   "source": []
  }
 ],
 "metadata": {
  "kernelspec": {
   "display_name": "Python 3 (ipykernel)",
   "language": "python",
   "name": "python3"
  },
  "language_info": {
   "codemirror_mode": {
    "name": "ipython",
    "version": 3
   },
   "file_extension": ".py",
   "mimetype": "text/x-python",
   "name": "python",
   "nbconvert_exporter": "python",
   "pygments_lexer": "ipython3",
   "version": "3.12.7"
  }
 },
 "nbformat": 4,
 "nbformat_minor": 5
}
